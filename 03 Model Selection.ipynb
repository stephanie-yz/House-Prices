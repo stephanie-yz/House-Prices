{
 "cells": [
  {
   "cell_type": "markdown",
   "metadata": {},
   "source": [
    "# House Prices - Advanced Regression Techniques (Kaggle)\n",
    "\n",
    "Run after following notebooks are run:\n",
    "1. 01 Data Cleaning\n",
    "2. 02 Exploratory Data Analysis\n",
    "\n",
    "#### Development Ideas\n",
    "*  Need to scale discrete numerical variables as well"
   ]
  },
  {
   "cell_type": "code",
   "execution_count": 30,
   "metadata": {},
   "outputs": [],
   "source": [
    "### set up libraries\n",
    "import pandas as pd\n",
    "import numpy as np\n",
    "import matplotlib.pyplot as plt\n",
    "from sklearn.neighbors import KNeighborsRegressor\n",
    "from sklearn.model_selection import KFold, cross_val_score\n",
    "import seaborn as sns\n",
    "\n",
    "pd.options.display.max_rows = 100"
   ]
  },
  {
   "cell_type": "markdown",
   "metadata": {},
   "source": [
    "## Load Data"
   ]
  },
  {
   "cell_type": "code",
   "execution_count": 31,
   "metadata": {},
   "outputs": [
    {
     "data": {
      "text/plain": [
       "(1460, 67)"
      ]
     },
     "execution_count": 31,
     "metadata": {},
     "output_type": "execute_result"
    }
   ],
   "source": [
    "### load data (cleaned)\n",
    "train = pd.read_csv('train_clean_truncated.csv')\n",
    "\n",
    "### convert all object datatypes to category\n",
    "for col in train.select_dtypes(include='object'):\n",
    "    train[col] = train[col].astype('category')\n",
    "\n",
    "### convert additional columns to category datatype\n",
    "train['MSSubClass'] = train['MSSubClass'].astype('category')\n",
    "\n",
    "train.shape"
   ]
  },
  {
   "cell_type": "code",
   "execution_count": 32,
   "metadata": {},
   "outputs": [],
   "source": [
    "## separate in to predictor and response tables (x and y)\n",
    "x_train = train.drop('SalePrice', axis=1)\n",
    "y_train = train.SalePrice"
   ]
  },
  {
   "cell_type": "markdown",
   "metadata": {},
   "source": [
    "## One Hot Encoding"
   ]
  },
  {
   "cell_type": "code",
   "execution_count": 33,
   "metadata": {},
   "outputs": [
    {
     "name": "stdout",
     "output_type": "stream",
     "text": [
      "(1460, 201)\n"
     ]
    },
    {
     "data": {
      "text/plain": [
       "['LotFrontage',\n",
       " 'LotArea',\n",
       " 'OverallQual',\n",
       " 'OverallCond',\n",
       " 'MasVnrArea',\n",
       " 'BsmtFinSF1',\n",
       " 'BsmtFinSF2',\n",
       " 'BsmtUnfSF',\n",
       " 'TotalBsmtSF',\n",
       " '1stFlrSF',\n",
       " '2ndFlrSF',\n",
       " 'GrLivArea',\n",
       " 'BedroomAbvGr',\n",
       " 'KitchenAbvGr',\n",
       " 'TotRmsAbvGrd',\n",
       " 'Fireplaces',\n",
       " 'GarageCars',\n",
       " 'GarageArea',\n",
       " 'WoodDeckSF',\n",
       " 'OpenPorchSF',\n",
       " 'EnclosedPorch',\n",
       " 'MoSold',\n",
       " 'YrSold',\n",
       " 'age_sold',\n",
       " 'age_remodel_sold',\n",
       " 'age_garage_sold',\n",
       " 'bsmt_bath',\n",
       " 'bath',\n",
       " 'MSSubClass_30',\n",
       " 'MSSubClass_40',\n",
       " 'MSSubClass_45',\n",
       " 'MSSubClass_50',\n",
       " 'MSSubClass_60',\n",
       " 'MSSubClass_70',\n",
       " 'MSSubClass_75',\n",
       " 'MSSubClass_80',\n",
       " 'MSSubClass_85',\n",
       " 'MSSubClass_90',\n",
       " 'MSSubClass_120',\n",
       " 'MSSubClass_160',\n",
       " 'MSSubClass_180',\n",
       " 'MSSubClass_190',\n",
       " 'MSZoning_FV',\n",
       " 'MSZoning_RH',\n",
       " 'MSZoning_RL',\n",
       " 'MSZoning_RM',\n",
       " 'Alley_Pave',\n",
       " 'LotShape_Reg',\n",
       " 'LandContour_HLS',\n",
       " 'LandContour_Low',\n",
       " 'LandContour_Lvl',\n",
       " 'LotConfig_CulDSac',\n",
       " 'LotConfig_FR',\n",
       " 'LotConfig_Inside',\n",
       " 'LandSlope_MOrS',\n",
       " 'Neighborhood_Blueste',\n",
       " 'Neighborhood_BrDale',\n",
       " 'Neighborhood_BrkSide',\n",
       " 'Neighborhood_ClearCr',\n",
       " 'Neighborhood_CollgCr',\n",
       " 'Neighborhood_Crawfor',\n",
       " 'Neighborhood_Edwards',\n",
       " 'Neighborhood_Gilbert',\n",
       " 'Neighborhood_IDOTRR',\n",
       " 'Neighborhood_MeadowV',\n",
       " 'Neighborhood_Mitchel',\n",
       " 'Neighborhood_NAmes',\n",
       " 'Neighborhood_NPkVill',\n",
       " 'Neighborhood_NWAmes',\n",
       " 'Neighborhood_NoRidge',\n",
       " 'Neighborhood_NridgHt',\n",
       " 'Neighborhood_OldTown',\n",
       " 'Neighborhood_SWISU',\n",
       " 'Neighborhood_Sawyer',\n",
       " 'Neighborhood_SawyerW',\n",
       " 'Neighborhood_Somerst',\n",
       " 'Neighborhood_StoneBr',\n",
       " 'Neighborhood_Timber',\n",
       " 'Neighborhood_Veenker',\n",
       " 'Condition1_Feedr',\n",
       " 'Condition1_Norm',\n",
       " 'Condition1_PosA',\n",
       " 'Condition1_PosN',\n",
       " 'Condition1_RRAe',\n",
       " 'Condition1_RRAn',\n",
       " 'Condition1_RRNe',\n",
       " 'Condition1_RRNn',\n",
       " 'BldgType_2fmCon',\n",
       " 'BldgType_Duplex',\n",
       " 'BldgType_Twnhs',\n",
       " 'BldgType_TwnhsE',\n",
       " 'HouseStyle_1.5Unf',\n",
       " 'HouseStyle_1Story',\n",
       " 'HouseStyle_2.5Fin',\n",
       " 'HouseStyle_2.5Unf',\n",
       " 'HouseStyle_2Story',\n",
       " 'HouseStyle_SFoyer',\n",
       " 'HouseStyle_SLvl',\n",
       " 'RoofStyle_Hip',\n",
       " 'RoofStyle_Other',\n",
       " 'Exterior1st_AsphShn',\n",
       " 'Exterior1st_BrkComm',\n",
       " 'Exterior1st_BrkFace',\n",
       " 'Exterior1st_CBlock',\n",
       " 'Exterior1st_CemntBd',\n",
       " 'Exterior1st_HdBoard',\n",
       " 'Exterior1st_ImStucc',\n",
       " 'Exterior1st_MetalSd',\n",
       " 'Exterior1st_Plywood',\n",
       " 'Exterior1st_Stone',\n",
       " 'Exterior1st_Stucco',\n",
       " 'Exterior1st_VinylSd',\n",
       " 'Exterior1st_Wd Sdng',\n",
       " 'Exterior1st_WdShing',\n",
       " 'Exterior2nd_AsphShn',\n",
       " 'Exterior2nd_Brk Cmn',\n",
       " 'Exterior2nd_BrkFace',\n",
       " 'Exterior2nd_CBlock',\n",
       " 'Exterior2nd_CmentBd',\n",
       " 'Exterior2nd_HdBoard',\n",
       " 'Exterior2nd_ImStucc',\n",
       " 'Exterior2nd_MetalSd',\n",
       " 'Exterior2nd_Other',\n",
       " 'Exterior2nd_Plywood',\n",
       " 'Exterior2nd_Stone',\n",
       " 'Exterior2nd_Stucco',\n",
       " 'Exterior2nd_VinylSd',\n",
       " 'Exterior2nd_Wd Sdng',\n",
       " 'Exterior2nd_Wd Shng',\n",
       " 'MasVnrType_BrkFace',\n",
       " 'MasVnrType_Stone',\n",
       " 'ExterQual_Fa',\n",
       " 'ExterQual_Gd',\n",
       " 'ExterQual_TA',\n",
       " 'ExterCond_Fa',\n",
       " 'ExterCond_Gd',\n",
       " 'ExterCond_Po',\n",
       " 'ExterCond_TA',\n",
       " 'Foundation_CBlock',\n",
       " 'Foundation_PConc',\n",
       " 'Foundation_Slab',\n",
       " 'Foundation_Stone',\n",
       " 'Foundation_Wood',\n",
       " 'BsmtQual_Fa',\n",
       " 'BsmtQual_Gd',\n",
       " 'BsmtQual_TA',\n",
       " 'BsmtCond_Gd',\n",
       " 'BsmtCond_Po',\n",
       " 'BsmtCond_TA',\n",
       " 'BsmtExposure_Gd',\n",
       " 'BsmtExposure_Mn',\n",
       " 'BsmtExposure_No',\n",
       " 'BsmtFinType1_BLQ',\n",
       " 'BsmtFinType1_GLQ',\n",
       " 'BsmtFinType1_LwQ',\n",
       " 'BsmtFinType1_Rec',\n",
       " 'BsmtFinType1_Unf',\n",
       " 'BsmtFinType2_BLQ',\n",
       " 'BsmtFinType2_GLQ',\n",
       " 'BsmtFinType2_LwQ',\n",
       " 'BsmtFinType2_Rec',\n",
       " 'BsmtFinType2_Unf',\n",
       " 'HeatingQC_Fa',\n",
       " 'HeatingQC_Gd',\n",
       " 'HeatingQC_Po',\n",
       " 'HeatingQC_TA',\n",
       " 'CentralAir_Y',\n",
       " 'Electrical_SBrkr',\n",
       " 'KitchenQual_Fa',\n",
       " 'KitchenQual_Gd',\n",
       " 'KitchenQual_TA',\n",
       " 'Functional_Typ',\n",
       " 'FireplaceQu_Fa',\n",
       " 'FireplaceQu_Gd',\n",
       " 'FireplaceQu_Po',\n",
       " 'FireplaceQu_TA',\n",
       " 'GarageType_Attchd',\n",
       " 'GarageType_Basment',\n",
       " 'GarageType_BuiltIn',\n",
       " 'GarageType_CarPort',\n",
       " 'GarageType_Detchd',\n",
       " 'GarageFinish_RFn',\n",
       " 'GarageFinish_Unf',\n",
       " 'GarageQual_Fa',\n",
       " 'GarageQual_Gd',\n",
       " 'GarageQual_Po',\n",
       " 'GarageQual_TA',\n",
       " 'GarageCond_Fa',\n",
       " 'GarageCond_Gd',\n",
       " 'GarageCond_Po',\n",
       " 'GarageCond_TA',\n",
       " 'PavedDrive_P',\n",
       " 'PavedDrive_Y',\n",
       " 'Fence_GdWo',\n",
       " 'Fence_MnPrv',\n",
       " 'Fence_MnWw',\n",
       " 'SaleType_Other',\n",
       " 'SaleType_WD',\n",
       " 'SaleCondition_Other',\n",
       " 'SaleCondition_Partial',\n",
       " 'remodel_flag_Y']"
      ]
     },
     "execution_count": 33,
     "metadata": {},
     "output_type": "execute_result"
    }
   ],
   "source": [
    "x_train_onehot = pd.get_dummies(x_train, drop_first=True)\n",
    "print(x_train_onehot.shape)\n",
    "x_train_onehot.columns.to_list()"
   ]
  },
  {
   "cell_type": "markdown",
   "metadata": {},
   "source": [
    "## Modelling - Cross-Validation and Optimisation"
   ]
  },
  {
   "cell_type": "markdown",
   "metadata": {},
   "source": [
    "### KNN"
   ]
  },
  {
   "cell_type": "code",
   "execution_count": 34,
   "metadata": {},
   "outputs": [
    {
     "data": {
      "text/plain": [
       "array([0.71570021, 0.70393951, 0.67314234, 0.74896047, 0.75320094])"
      ]
     },
     "execution_count": 34,
     "metadata": {},
     "output_type": "execute_result"
    }
   ],
   "source": [
    "## instantiate knn algorithm\n",
    "knn = KNeighborsRegressor(n_neighbors=10)\n",
    "\n",
    "## cross validation\n",
    "kf = KFold(n_splits=5, shuffle=True, random_state=8)\n",
    "knn_cv_scores = cross_val_score(knn, x_train_onehot.values, y_train.values, cv=kf)\n",
    "knn_cv_scores"
   ]
  }
 ],
 "metadata": {
  "kernelspec": {
   "display_name": "Python 3",
   "language": "python",
   "name": "python3"
  },
  "language_info": {
   "codemirror_mode": {
    "name": "ipython",
    "version": 3
   },
   "file_extension": ".py",
   "mimetype": "text/x-python",
   "name": "python",
   "nbconvert_exporter": "python",
   "pygments_lexer": "ipython3",
   "version": "3.10.4"
  },
  "orig_nbformat": 4
 },
 "nbformat": 4,
 "nbformat_minor": 2
}
