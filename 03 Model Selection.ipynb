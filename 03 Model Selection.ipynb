{
 "cells": [
  {
   "cell_type": "markdown",
   "metadata": {},
   "source": [
    "# House Prices - Advanced Regression Techniques (Kaggle)\n",
    "\n",
    "Run after following notebooks are run:\n",
    "1. 01 Data Cleaning\n",
    "2. 02 Exploratory Data Analysis\n",
    "\n",
    "#### Development Ideas\n",
    "*  Need to scale discrete numerical variables as well"
   ]
  },
  {
   "cell_type": "code",
   "execution_count": 1,
   "metadata": {},
   "outputs": [],
   "source": [
    "### set up libraries\n",
    "import pandas as pd\n",
    "import numpy as np\n",
    "import matplotlib.pyplot as plt\n",
    "from sklearn.model_selection import KFold, cross_val_score\n",
    "from sklearn.model_selection import GridSearchCV\n",
    "from sklearn.neighbors import KNeighborsRegressor\n",
    "from sklearn.ensemble import RandomForestRegressor\n",
    "from sklearn.linear_model import Lasso\n",
    "from sklearn.linear_model import ElasticNet\n",
    "import seaborn as sns\n",
    "\n",
    "pd.options.display.max_rows = 100"
   ]
  },
  {
   "cell_type": "markdown",
   "metadata": {},
   "source": [
    "## Load Data"
   ]
  },
  {
   "cell_type": "code",
   "execution_count": 2,
   "metadata": {},
   "outputs": [
    {
     "data": {
      "text/plain": [
       "((1460, 67), (1459, 80))"
      ]
     },
     "execution_count": 2,
     "metadata": {},
     "output_type": "execute_result"
    }
   ],
   "source": [
    "### load data (cleaned)\n",
    "train = pd.read_csv('train_clean_truncated.csv')\n",
    "test = pd.read_csv('test_clean.csv')\n",
    "\n",
    "### convert all object datatypes to category\n",
    "for col in train.select_dtypes(include='object'):\n",
    "    train[col] = train[col].astype('category')\n",
    "\n",
    "for col in test.select_dtypes(include='object'):\n",
    "    test[col] = test[col].astype('category')\n",
    "\n",
    "### convert additional columns to category datatype\n",
    "train['MSSubClass'] = train['MSSubClass'].astype('category')\n",
    "test['MSSubClass'] = test['MSSubClass'].astype('category')\n",
    "\n",
    "train.shape, test.shape"
   ]
  },
  {
   "cell_type": "code",
   "execution_count": 3,
   "metadata": {},
   "outputs": [],
   "source": [
    "## separate in to predictor and response tables (x and y)\n",
    "x_train = train.drop('SalePrice', axis=1)\n",
    "y_train = train.SalePrice\n",
    "\n",
    "## for the test data, take only the x vars present in the train data,\n",
    "x_train_cols = x_train.columns.to_list()\n",
    "x_test = test[x_train_cols]"
   ]
  },
  {
   "cell_type": "markdown",
   "metadata": {},
   "source": [
    "## One Hot Encoding"
   ]
  },
  {
   "cell_type": "code",
   "execution_count": 4,
   "metadata": {},
   "outputs": [
    {
     "name": "stdout",
     "output_type": "stream",
     "text": [
      "(1460, 200) (1459, 196)\n"
     ]
    },
    {
     "data": {
      "text/plain": [
       "['LotFrontage',\n",
       " 'LotArea',\n",
       " 'OverallQual',\n",
       " 'OverallCond',\n",
       " 'MasVnrArea',\n",
       " 'BsmtFinSF1',\n",
       " 'BsmtFinSF2',\n",
       " 'BsmtUnfSF',\n",
       " 'TotalBsmtSF',\n",
       " '1stFlrSF',\n",
       " '2ndFlrSF',\n",
       " 'GrLivArea',\n",
       " 'BedroomAbvGr',\n",
       " 'KitchenAbvGr',\n",
       " 'TotRmsAbvGrd',\n",
       " 'Fireplaces',\n",
       " 'GarageCars',\n",
       " 'GarageArea',\n",
       " 'WoodDeckSF',\n",
       " 'OpenPorchSF',\n",
       " 'EnclosedPorch',\n",
       " 'MoSold',\n",
       " 'YrSold',\n",
       " 'age_sold',\n",
       " 'age_remodel_sold',\n",
       " 'age_garage_sold',\n",
       " 'bsmt_bath',\n",
       " 'bath',\n",
       " 'MSSubClass_30',\n",
       " 'MSSubClass_40',\n",
       " 'MSSubClass_45',\n",
       " 'MSSubClass_50',\n",
       " 'MSSubClass_60',\n",
       " 'MSSubClass_70',\n",
       " 'MSSubClass_75',\n",
       " 'MSSubClass_80',\n",
       " 'MSSubClass_85',\n",
       " 'MSSubClass_90',\n",
       " 'MSSubClass_120',\n",
       " 'MSSubClass_160',\n",
       " 'MSSubClass_180',\n",
       " 'MSSubClass_190',\n",
       " 'MSZoning_FV',\n",
       " 'MSZoning_RH',\n",
       " 'MSZoning_RL',\n",
       " 'MSZoning_RM',\n",
       " 'Alley_Pave',\n",
       " 'LotShape_Reg',\n",
       " 'LandContour_HLS',\n",
       " 'LandContour_Low',\n",
       " 'LandContour_Lvl',\n",
       " 'LotConfig_CulDSac',\n",
       " 'LotConfig_FR',\n",
       " 'LotConfig_Inside',\n",
       " 'LandSlope_MOrS',\n",
       " 'Neighborhood_Blueste',\n",
       " 'Neighborhood_BrDale',\n",
       " 'Neighborhood_BrkSide',\n",
       " 'Neighborhood_ClearCr',\n",
       " 'Neighborhood_CollgCr',\n",
       " 'Neighborhood_Crawfor',\n",
       " 'Neighborhood_Edwards',\n",
       " 'Neighborhood_Gilbert',\n",
       " 'Neighborhood_IDOTRR',\n",
       " 'Neighborhood_MeadowV',\n",
       " 'Neighborhood_Mitchel',\n",
       " 'Neighborhood_NAmes',\n",
       " 'Neighborhood_NPkVill',\n",
       " 'Neighborhood_NWAmes',\n",
       " 'Neighborhood_NoRidge',\n",
       " 'Neighborhood_NridgHt',\n",
       " 'Neighborhood_OldTown',\n",
       " 'Neighborhood_SWISU',\n",
       " 'Neighborhood_Sawyer',\n",
       " 'Neighborhood_SawyerW',\n",
       " 'Neighborhood_Somerst',\n",
       " 'Neighborhood_StoneBr',\n",
       " 'Neighborhood_Timber',\n",
       " 'Neighborhood_Veenker',\n",
       " 'Condition1_Feedr',\n",
       " 'Condition1_Norm',\n",
       " 'Condition1_PosA',\n",
       " 'Condition1_PosN',\n",
       " 'Condition1_RRAe',\n",
       " 'Condition1_RRAn',\n",
       " 'Condition1_RRNe',\n",
       " 'Condition1_RRNn',\n",
       " 'BldgType_2fmCon',\n",
       " 'BldgType_Duplex',\n",
       " 'BldgType_Twnhs',\n",
       " 'BldgType_TwnhsE',\n",
       " 'HouseStyle_1.5Unf',\n",
       " 'HouseStyle_1Story',\n",
       " 'HouseStyle_2.5Fin',\n",
       " 'HouseStyle_2.5Unf',\n",
       " 'HouseStyle_2Story',\n",
       " 'HouseStyle_SFoyer',\n",
       " 'HouseStyle_SLvl',\n",
       " 'RoofStyle_Hip',\n",
       " 'RoofStyle_Other',\n",
       " 'Exterior1st_AsphShn',\n",
       " 'Exterior1st_BrkComm',\n",
       " 'Exterior1st_BrkFace',\n",
       " 'Exterior1st_CBlock',\n",
       " 'Exterior1st_CemntBd',\n",
       " 'Exterior1st_HdBoard',\n",
       " 'Exterior1st_ImStucc',\n",
       " 'Exterior1st_MetalSd',\n",
       " 'Exterior1st_Plywood',\n",
       " 'Exterior1st_Stone',\n",
       " 'Exterior1st_Stucco',\n",
       " 'Exterior1st_VinylSd',\n",
       " 'Exterior1st_Wd Sdng',\n",
       " 'Exterior1st_WdShing',\n",
       " 'Exterior2nd_AsphShn',\n",
       " 'Exterior2nd_Brk Cmn',\n",
       " 'Exterior2nd_BrkFace',\n",
       " 'Exterior2nd_CBlock',\n",
       " 'Exterior2nd_CmentBd',\n",
       " 'Exterior2nd_HdBoard',\n",
       " 'Exterior2nd_ImStucc',\n",
       " 'Exterior2nd_MetalSd',\n",
       " 'Exterior2nd_Other',\n",
       " 'Exterior2nd_Plywood',\n",
       " 'Exterior2nd_Stone',\n",
       " 'Exterior2nd_Stucco',\n",
       " 'Exterior2nd_VinylSd',\n",
       " 'Exterior2nd_Wd Sdng',\n",
       " 'Exterior2nd_Wd Shng',\n",
       " 'MasVnrType_BrkFace',\n",
       " 'MasVnrType_Stone',\n",
       " 'ExterQual_Fa',\n",
       " 'ExterQual_Gd',\n",
       " 'ExterQual_TA',\n",
       " 'ExterCond_Fa',\n",
       " 'ExterCond_Gd',\n",
       " 'ExterCond_Po',\n",
       " 'ExterCond_TA',\n",
       " 'Foundation_CBlock',\n",
       " 'Foundation_PConc',\n",
       " 'Foundation_Slab',\n",
       " 'Foundation_Stone',\n",
       " 'Foundation_Wood',\n",
       " 'BsmtQual_Fa',\n",
       " 'BsmtQual_Gd',\n",
       " 'BsmtQual_TA',\n",
       " 'BsmtCond_Gd',\n",
       " 'BsmtCond_Po',\n",
       " 'BsmtCond_TA',\n",
       " 'BsmtExposure_Gd',\n",
       " 'BsmtExposure_Mn',\n",
       " 'BsmtExposure_No',\n",
       " 'BsmtFinType1_BLQ',\n",
       " 'BsmtFinType1_GLQ',\n",
       " 'BsmtFinType1_LwQ',\n",
       " 'BsmtFinType1_Rec',\n",
       " 'BsmtFinType1_Unf',\n",
       " 'BsmtFinType2_BLQ',\n",
       " 'BsmtFinType2_GLQ',\n",
       " 'BsmtFinType2_LwQ',\n",
       " 'BsmtFinType2_Rec',\n",
       " 'BsmtFinType2_Unf',\n",
       " 'HeatingQC_Fa',\n",
       " 'HeatingQC_Gd',\n",
       " 'HeatingQC_Po',\n",
       " 'HeatingQC_TA',\n",
       " 'CentralAir_Y',\n",
       " 'Electrical_SBrkr',\n",
       " 'KitchenQual_Fa',\n",
       " 'KitchenQual_Gd',\n",
       " 'KitchenQual_TA',\n",
       " 'Functional_Typ',\n",
       " 'FireplaceQu_Fa',\n",
       " 'FireplaceQu_Gd',\n",
       " 'FireplaceQu_Po',\n",
       " 'FireplaceQu_TA',\n",
       " 'GarageType_Attchd',\n",
       " 'GarageType_Basment',\n",
       " 'GarageType_BuiltIn',\n",
       " 'GarageType_CarPort',\n",
       " 'GarageType_Detchd',\n",
       " 'GarageFinish_RFn',\n",
       " 'GarageFinish_Unf',\n",
       " 'GarageQual_Fa',\n",
       " 'GarageQual_Gd',\n",
       " 'GarageQual_Po',\n",
       " 'GarageQual_TA',\n",
       " 'GarageCond_Fa',\n",
       " 'GarageCond_Gd',\n",
       " 'GarageCond_Po',\n",
       " 'GarageCond_TA',\n",
       " 'PavedDrive_P',\n",
       " 'PavedDrive_Y',\n",
       " 'Fence_GdWo',\n",
       " 'Fence_MnPrv',\n",
       " 'Fence_MnWw',\n",
       " 'SaleType_Other',\n",
       " 'SaleType_WD',\n",
       " 'SaleCondition_Other',\n",
       " 'SaleCondition_Partial']"
      ]
     },
     "execution_count": 4,
     "metadata": {},
     "output_type": "execute_result"
    }
   ],
   "source": [
    "x_train_onehot = pd.get_dummies(x_train, drop_first=True)\n",
    "x_test_onehot = pd.get_dummies(x_test, drop_first=True)\n",
    "print(x_train_onehot.shape, x_test_onehot.shape)\n",
    "x_train_onehot.columns.to_list()"
   ]
  },
  {
   "cell_type": "code",
   "execution_count": 5,
   "metadata": {},
   "outputs": [
    {
     "name": "stdout",
     "output_type": "stream",
     "text": [
      "(1460, 201) (1459, 201)\n"
     ]
    }
   ],
   "source": [
    "## add on missing columns to train data due to onehot encoding\n",
    "train_cols_to_add = [var for var in x_test_onehot.columns.to_list() if var not in x_train_onehot.columns.to_list()]\n",
    "for var in train_cols_to_add:\n",
    "    x_train_onehot[var] = False\n",
    "\n",
    "## add on missing columns to test data due to onehot encoding\n",
    "test_cols_to_add = [var for var in x_train_onehot.columns.to_list() if var not in x_test_onehot.columns.to_list()]\n",
    "for var in test_cols_to_add:\n",
    "    x_test_onehot[var] = False\n",
    "\n",
    "print(x_train_onehot.shape, x_test_onehot.shape)"
   ]
  },
  {
   "cell_type": "markdown",
   "metadata": {},
   "source": [
    "## Modelling - Cross-Validation and Optimisation"
   ]
  },
  {
   "cell_type": "markdown",
   "metadata": {},
   "source": [
    "### Random Forest"
   ]
  },
  {
   "cell_type": "code",
   "execution_count": 6,
   "metadata": {},
   "outputs": [],
   "source": [
    "## hyperparameter tuning: n_estimators\n",
    "param_grid = {'n_estimators' : np.arange(160,210,20)}\n",
    "kf = KFold(n_splits=6, shuffle=True, random_state=8)\n",
    "\n",
    "rf_tuning = GridSearchCV(RandomForestRegressor(random_state=8), param_grid, scoring='neg_mean_squared_error', cv=kf)\n",
    "rf_tuning.fit(x_train_onehot.values, y_train.values)\n",
    "rf_tuning_params = rf_tuning.cv_results_['param_n_estimators']\n",
    "rf_tuning_mse = -rf_tuning.cv_results_['mean_test_score']\n",
    "\n",
    "## find best param with lowest mse, and plot params against mse\n",
    "print(rf_tuning.best_params_)\n",
    "plt.plot(rf_tuning_params, rf_tuning_mse)\n",
    "plt.xlabel('N_estimators')\n",
    "plt.ylabel('Mean Squared Error')\n",
    "None"
   ]
  },
  {
   "cell_type": "code",
   "execution_count": null,
   "metadata": {},
   "outputs": [],
   "source": [
    "## instantiate rf algorithm, using best tuned param\n",
    "rf = RandomForestRegressor(n_estimators=180, random_state=8)\n",
    "\n",
    "## cross validation\n",
    "kf = KFold(n_splits=6, shuffle=True, random_state=8)\n",
    "rf_cv_scores = cross_val_score(rf, x_train_onehot.values, y_train.values, scoring='neg_mean_squared_error', cv=kf)\n",
    "print(f'avg MSE: {-np.mean(rf_cv_scores)}\\n', f'splits MSE: {-rf_cv_scores}')"
   ]
  },
  {
   "cell_type": "code",
   "execution_count": null,
   "metadata": {},
   "outputs": [],
   "source": [
    "## List feature importance\n",
    "rf.fit(x_train_onehot.values, y_train.values)\n",
    "rf_ft_imp = pd.DataFrame(data={'Features': x_train_onehot.columns, 'Gini Importance':rf.feature_importances_*100})\n",
    "rf_ft_imp.sort_values(by='Gini Importance', ascending=False).head(15)"
   ]
  },
  {
   "cell_type": "markdown",
   "metadata": {},
   "source": [
    "### KNN"
   ]
  },
  {
   "cell_type": "code",
   "execution_count": null,
   "metadata": {},
   "outputs": [],
   "source": [
    "## limit x vars to top 10 by gini importance (determined in rf section)\n",
    "top10_vars = rf_ft_imp.sort_values(by='Gini Importance', ascending=False).head(10)['Features'].to_list()\n",
    "x_train_onehot_top10 = x_train_onehot[top10_vars]\n",
    "\n",
    "## hyperparameter tuning: alpha\n",
    "param_grid = {'n_neighbors' : np.arange(3,11)}\n",
    "kf = KFold(n_splits=6, shuffle=True, random_state=8)\n",
    "\n",
    "knn_tuning = GridSearchCV(KNeighborsRegressor(weights='distance'), param_grid, scoring='neg_mean_squared_error', cv=kf)\n",
    "knn_tuning.fit(x_train_onehot_top10.values, y_train.values)\n",
    "knn_tuning_params = knn_tuning.cv_results_['param_n_neighbors']\n",
    "knn_tuning_mse = -knn_tuning.cv_results_['mean_test_score']\n",
    "\n",
    "## find best param with lowest mse, and plot params against mse\n",
    "print(knn_tuning.best_params_)\n",
    "plt.plot(knn_tuning_params, knn_tuning_mse)\n",
    "plt.xlabel('N_neighbors')\n",
    "plt.ylabel('Mean Squared Error')\n",
    "None"
   ]
  },
  {
   "cell_type": "code",
   "execution_count": null,
   "metadata": {},
   "outputs": [],
   "source": [
    "## instantiate knn algorithm, using best tuned param\n",
    "knn = KNeighborsRegressor(n_neighbors=8, weights='distance')\n",
    "\n",
    "## cross validation\n",
    "kf = KFold(n_splits=6, shuffle=True, random_state=8)\n",
    "knn_cv_scores = cross_val_score(knn, x_train_onehot_top10.values, y_train.values, scoring='neg_mean_squared_error', cv=kf)\n",
    "print(f'avg MSE: {-np.mean(knn_cv_scores)}\\n', f'splits MSE: {-knn_cv_scores}')"
   ]
  },
  {
   "cell_type": "markdown",
   "metadata": {},
   "source": [
    "### Lasso"
   ]
  },
  {
   "cell_type": "code",
   "execution_count": null,
   "metadata": {},
   "outputs": [],
   "source": [
    "## hyperparameter tuning: alpha\n",
    "param_grid = {'alpha': np.linspace(0.0001, 0.0004, 20)}\n",
    "kf = KFold(n_splits=5, shuffle=True, random_state=8)\n",
    "\n",
    "lasso_tuning = GridSearchCV(Lasso(random_state=8), param_grid, scoring='neg_mean_squared_error', cv=kf)\n",
    "lasso_tuning.fit(x_train_onehot.values, y_train.values)\n",
    "lasso_tuning_params = lasso_tuning.cv_results_['param_alpha']\n",
    "lasso_tuning_mse = -lasso_tuning.cv_results_['mean_test_score']\n",
    "\n",
    "## find best param with lowest mse, and plot params against mse\n",
    "print(lasso_tuning.best_params_)\n",
    "plt.plot(lasso_tuning_params, lasso_tuning_mse)\n",
    "plt.xlabel('Alpha')\n",
    "plt.ylabel('Mean Squared Error')\n",
    "None"
   ]
  },
  {
   "cell_type": "code",
   "execution_count": null,
   "metadata": {},
   "outputs": [],
   "source": [
    "## instantiate rf algorith, using best tuned param\n",
    "lasso = Lasso(alpha=0.000321)\n",
    "\n",
    "## cross validation\n",
    "kf = KFold(n_splits=5, shuffle=True, random_state=8)\n",
    "lasso_cv_scores = cross_val_score(lasso, x_train_onehot.values, y_train.values, scoring='neg_mean_squared_error', cv=kf)\n",
    "print(f'avg MSE: {np.mean(-lasso_cv_scores)}\\n', f'splits MSE: {-lasso_cv_scores}')"
   ]
  },
  {
   "cell_type": "markdown",
   "metadata": {},
   "source": [
    "## Elastic Net\n",
    "\n",
    "* Did't follow through with Elastic Net as it would give similar results to lasso (since optimal l1_ratio ~1)"
   ]
  },
  {
   "cell_type": "code",
   "execution_count": null,
   "metadata": {},
   "outputs": [],
   "source": [
    "## hyperparameter tuning: alpha\n",
    "param_grid = {'alpha': np.linspace(0.0001, 0.0003, 20), 'l1_ratio': [0.7, 0.8, 0.9]}\n",
    "kf = KFold(n_splits=6, shuffle=True, random_state=8)\n",
    "\n",
    "elnet_tuning = GridSearchCV(ElasticNet(random_state=8), param_grid, scoring='neg_mean_squared_error', cv=kf)\n",
    "elnet_tuning.fit(x_train_onehot.values, y_train.values)\n",
    "\n",
    "## find best param with lowest mse, and plot params against mse\n",
    "print(elnet_tuning.best_params_, -elnet_tuning.best_score_)"
   ]
  },
  {
   "cell_type": "markdown",
   "metadata": {},
   "source": [
    "## Test Prediction"
   ]
  },
  {
   "cell_type": "code",
   "execution_count": null,
   "metadata": {},
   "outputs": [],
   "source": [
    "## fit all above models\n",
    "rf.fit(x_train_onehot.values, y_train.values)\n",
    "knn.fit(x_train_onehot.values, y_train.values)\n",
    "lasso.fit(x_train_onehot.values, y_train.values)\n",
    "None"
   ]
  },
  {
   "cell_type": "code",
   "execution_count": null,
   "metadata": {},
   "outputs": [],
   "source": [
    "## rf prediction\n",
    "y_testpred_rf = rf.predict(x_test_onehot.values)\n",
    "y_testpred_rf = np.exp(y_testpred_rf)\n",
    "\n",
    "## knn prediction\n",
    "y_testpred_knn = knn.predict(x_test_onehot.values)\n",
    "y_testpred_knn = np.exp(y_testpred_knn)\n",
    "\n",
    "## lasso prediction\n",
    "y_testpred_lasso = lasso.predict(x_test_onehot.values)\n",
    "y_testpred_lasso = np.exp(y_testpred_lasso)\n",
    "\n",
    "## rf x lasso stacked average prediction\n",
    "y_testpred_stacked_rflasso = (y_testpred_rf + y_testpred_lasso)/2"
   ]
  },
  {
   "cell_type": "markdown",
   "metadata": {},
   "source": [
    "### Save Predictions"
   ]
  },
  {
   "cell_type": "code",
   "execution_count": null,
   "metadata": {},
   "outputs": [],
   "source": [
    "## save in submission format - i.e. Id & SalePrice\n",
    "Id = np.arange(len(train)+1, len(train)+len(test)+1)\n",
    "\n",
    "y_testpred_rf = pd.DataFrame(data={'Id':Id, 'SalePrice':y_testpred_rf})\n",
    "y_testpred_knn = pd.DataFrame(data={'Id':Id, 'SalePrice':y_testpred_knn})\n",
    "y_testpred_lasso = pd.DataFrame(data={'Id':Id, 'SalePrice':y_testpred_lasso})\n",
    "y_testpred_stacked_rflasso = pd.DataFrame(data={'Id':Id, 'SalePrice':y_testpred_stacked_rflasso})\n",
    "\n",
    "## save a csv\n",
    "y_testpred_rf.to_csv('Submissions/test_pred_rf_v3.csv', index=False)\n",
    "y_testpred_knn.to_csv('Submissions/test_pred_knn_v2.csv', index=False)\n",
    "y_testpred_lasso.to_csv('Submissions/test_pred_lasso_v2.csv', index=False)\n",
    "y_testpred_stacked_rflasso.to_csv('Submissions/test_pred_stacked_v2.csv', index=False)"
   ]
  }
 ],
 "metadata": {
  "kernelspec": {
   "display_name": "Python 3",
   "language": "python",
   "name": "python3"
  },
  "language_info": {
   "codemirror_mode": {
    "name": "ipython",
    "version": 3
   },
   "file_extension": ".py",
   "mimetype": "text/x-python",
   "name": "python",
   "nbconvert_exporter": "python",
   "pygments_lexer": "ipython3",
   "version": "3.10.4"
  },
  "orig_nbformat": 4
 },
 "nbformat": 4,
 "nbformat_minor": 2
}
