{
 "cells": [
  {
   "cell_type": "markdown",
   "metadata": {},
   "source": [
    "# House Prices - Advanced Regression Techniques (Kaggle)\n",
    "\n",
    "Run after following notebooks are run:\n",
    "1. 01 Data Cleaning\n",
    "2. 02 Exploratory Data Analysis\n",
    "\n",
    "#### Development Ideas\n",
    "* "
   ]
  },
  {
   "cell_type": "code",
   "execution_count": 12,
   "metadata": {},
   "outputs": [],
   "source": [
    "### set up libraries\n",
    "import pandas as pd\n",
    "import numpy as np\n",
    "import matplotlib.pyplot as plt\n",
    "from sklearn.neighbors import KNeighborsRegressor\n",
    "from sklearn.model_selection import KFold, cross_val_score\n",
    "import seaborn as sns\n",
    "\n",
    "pd.options.display.max_rows = 100"
   ]
  },
  {
   "cell_type": "markdown",
   "metadata": {},
   "source": [
    "## Load Data"
   ]
  },
  {
   "cell_type": "code",
   "execution_count": 7,
   "metadata": {},
   "outputs": [
    {
     "data": {
      "text/plain": [
       "(1460, 67)"
      ]
     },
     "execution_count": 7,
     "metadata": {},
     "output_type": "execute_result"
    }
   ],
   "source": [
    "### load data (cleaned)\n",
    "train = pd.read_csv('train_clean_truncated.csv')\n",
    "\n",
    "### convert all object datatypes to category\n",
    "for col in train.select_dtypes(include='object'):\n",
    "    train[col] = train[col].astype('category')\n",
    "\n",
    "### convert additional columns to category datatype\n",
    "train['MSSubClass'] = train['MSSubClass'].astype('category')\n",
    "\n",
    "train.shape"
   ]
  },
  {
   "cell_type": "code",
   "execution_count": 9,
   "metadata": {},
   "outputs": [],
   "source": [
    "## separate in to predictor and response tables (x and y)\n",
    "x_train = train.drop('SalePrice', axis=1)\n",
    "y_train = train.SalePrice"
   ]
  },
  {
   "cell_type": "markdown",
   "metadata": {},
   "source": [
    "## One Hot Encoding"
   ]
  },
  {
   "cell_type": "code",
   "execution_count": 21,
   "metadata": {},
   "outputs": [
    {
     "name": "stdout",
     "output_type": "stream",
     "text": [
      "(1460, 201)\n"
     ]
    },
    {
     "data": {
      "text/html": [
       "<div>\n",
       "<style scoped>\n",
       "    .dataframe tbody tr th:only-of-type {\n",
       "        vertical-align: middle;\n",
       "    }\n",
       "\n",
       "    .dataframe tbody tr th {\n",
       "        vertical-align: top;\n",
       "    }\n",
       "\n",
       "    .dataframe thead th {\n",
       "        text-align: right;\n",
       "    }\n",
       "</style>\n",
       "<table border=\"1\" class=\"dataframe\">\n",
       "  <thead>\n",
       "    <tr style=\"text-align: right;\">\n",
       "      <th></th>\n",
       "      <th>LotFrontage</th>\n",
       "      <th>LotArea</th>\n",
       "      <th>OverallQual</th>\n",
       "      <th>OverallCond</th>\n",
       "      <th>MasVnrArea</th>\n",
       "      <th>BsmtFinSF1</th>\n",
       "      <th>BsmtFinSF2</th>\n",
       "      <th>BsmtUnfSF</th>\n",
       "      <th>TotalBsmtSF</th>\n",
       "      <th>1stFlrSF</th>\n",
       "      <th>...</th>\n",
       "      <th>PavedDrive_P</th>\n",
       "      <th>PavedDrive_Y</th>\n",
       "      <th>Fence_GdWo</th>\n",
       "      <th>Fence_MnPrv</th>\n",
       "      <th>Fence_MnWw</th>\n",
       "      <th>SaleType_Other</th>\n",
       "      <th>SaleType_WD</th>\n",
       "      <th>SaleCondition_Other</th>\n",
       "      <th>SaleCondition_Partial</th>\n",
       "      <th>remodel_flag_Y</th>\n",
       "    </tr>\n",
       "  </thead>\n",
       "  <tbody>\n",
       "    <tr>\n",
       "      <th>0</th>\n",
       "      <td>0.272948</td>\n",
       "      <td>0.348136</td>\n",
       "      <td>7.0</td>\n",
       "      <td>5.0</td>\n",
       "      <td>0.868041</td>\n",
       "      <td>0.560897</td>\n",
       "      <td>0.0</td>\n",
       "      <td>0.255764</td>\n",
       "      <td>0.232680</td>\n",
       "      <td>0.380229</td>\n",
       "      <td>...</td>\n",
       "      <td>False</td>\n",
       "      <td>True</td>\n",
       "      <td>False</td>\n",
       "      <td>True</td>\n",
       "      <td>False</td>\n",
       "      <td>False</td>\n",
       "      <td>True</td>\n",
       "      <td>False</td>\n",
       "      <td>False</td>\n",
       "      <td>False</td>\n",
       "    </tr>\n",
       "    <tr>\n",
       "      <th>1</th>\n",
       "      <td>0.341128</td>\n",
       "      <td>0.372612</td>\n",
       "      <td>6.0</td>\n",
       "      <td>8.0</td>\n",
       "      <td>0.000000</td>\n",
       "      <td>0.616690</td>\n",
       "      <td>0.0</td>\n",
       "      <td>0.354284</td>\n",
       "      <td>0.310501</td>\n",
       "      <td>0.529079</td>\n",
       "      <td>...</td>\n",
       "      <td>False</td>\n",
       "      <td>True</td>\n",
       "      <td>False</td>\n",
       "      <td>True</td>\n",
       "      <td>False</td>\n",
       "      <td>False</td>\n",
       "      <td>True</td>\n",
       "      <td>False</td>\n",
       "      <td>False</td>\n",
       "      <td>False</td>\n",
       "    </tr>\n",
       "    <tr>\n",
       "      <th>2</th>\n",
       "      <td>0.287200</td>\n",
       "      <td>0.403172</td>\n",
       "      <td>7.0</td>\n",
       "      <td>5.0</td>\n",
       "      <td>0.852437</td>\n",
       "      <td>0.501901</td>\n",
       "      <td>0.0</td>\n",
       "      <td>0.438264</td>\n",
       "      <td>0.245498</td>\n",
       "      <td>0.408222</td>\n",
       "      <td>...</td>\n",
       "      <td>False</td>\n",
       "      <td>True</td>\n",
       "      <td>False</td>\n",
       "      <td>True</td>\n",
       "      <td>False</td>\n",
       "      <td>False</td>\n",
       "      <td>True</td>\n",
       "      <td>False</td>\n",
       "      <td>False</td>\n",
       "      <td>True</td>\n",
       "    </tr>\n",
       "    <tr>\n",
       "      <th>3</th>\n",
       "      <td>0.248403</td>\n",
       "      <td>0.371609</td>\n",
       "      <td>7.0</td>\n",
       "      <td>5.0</td>\n",
       "      <td>0.000000</td>\n",
       "      <td>0.390005</td>\n",
       "      <td>0.0</td>\n",
       "      <td>0.488573</td>\n",
       "      <td>0.212140</td>\n",
       "      <td>0.425073</td>\n",
       "      <td>...</td>\n",
       "      <td>False</td>\n",
       "      <td>True</td>\n",
       "      <td>False</td>\n",
       "      <td>True</td>\n",
       "      <td>False</td>\n",
       "      <td>False</td>\n",
       "      <td>True</td>\n",
       "      <td>True</td>\n",
       "      <td>False</td>\n",
       "      <td>True</td>\n",
       "    </tr>\n",
       "    <tr>\n",
       "      <th>4</th>\n",
       "      <td>0.358142</td>\n",
       "      <td>0.449134</td>\n",
       "      <td>8.0</td>\n",
       "      <td>5.0</td>\n",
       "      <td>0.911389</td>\n",
       "      <td>0.548640</td>\n",
       "      <td>0.0</td>\n",
       "      <td>0.465562</td>\n",
       "      <td>0.288850</td>\n",
       "      <td>0.492198</td>\n",
       "      <td>...</td>\n",
       "      <td>False</td>\n",
       "      <td>True</td>\n",
       "      <td>False</td>\n",
       "      <td>True</td>\n",
       "      <td>False</td>\n",
       "      <td>False</td>\n",
       "      <td>True</td>\n",
       "      <td>False</td>\n",
       "      <td>False</td>\n",
       "      <td>False</td>\n",
       "    </tr>\n",
       "  </tbody>\n",
       "</table>\n",
       "<p>5 rows × 201 columns</p>\n",
       "</div>"
      ],
      "text/plain": [
       "   LotFrontage   LotArea  OverallQual  OverallCond  MasVnrArea  BsmtFinSF1  \\\n",
       "0     0.272948  0.348136          7.0          5.0    0.868041    0.560897   \n",
       "1     0.341128  0.372612          6.0          8.0    0.000000    0.616690   \n",
       "2     0.287200  0.403172          7.0          5.0    0.852437    0.501901   \n",
       "3     0.248403  0.371609          7.0          5.0    0.000000    0.390005   \n",
       "4     0.358142  0.449134          8.0          5.0    0.911389    0.548640   \n",
       "\n",
       "   BsmtFinSF2  BsmtUnfSF  TotalBsmtSF  1stFlrSF  ...  PavedDrive_P  \\\n",
       "0         0.0   0.255764     0.232680  0.380229  ...         False   \n",
       "1         0.0   0.354284     0.310501  0.529079  ...         False   \n",
       "2         0.0   0.438264     0.245498  0.408222  ...         False   \n",
       "3         0.0   0.488573     0.212140  0.425073  ...         False   \n",
       "4         0.0   0.465562     0.288850  0.492198  ...         False   \n",
       "\n",
       "   PavedDrive_Y  Fence_GdWo  Fence_MnPrv  Fence_MnWw  SaleType_Other  \\\n",
       "0          True       False         True       False           False   \n",
       "1          True       False         True       False           False   \n",
       "2          True       False         True       False           False   \n",
       "3          True       False         True       False           False   \n",
       "4          True       False         True       False           False   \n",
       "\n",
       "   SaleType_WD  SaleCondition_Other  SaleCondition_Partial  remodel_flag_Y  \n",
       "0         True                False                  False           False  \n",
       "1         True                False                  False           False  \n",
       "2         True                False                  False            True  \n",
       "3         True                 True                  False            True  \n",
       "4         True                False                  False           False  \n",
       "\n",
       "[5 rows x 201 columns]"
      ]
     },
     "execution_count": 21,
     "metadata": {},
     "output_type": "execute_result"
    }
   ],
   "source": [
    "x_train_onehot = pd.get_dummies(x_train, drop_first=True)\n",
    "print(x_train_onehot.shape)\n",
    "x_train_onehot.head()"
   ]
  },
  {
   "cell_type": "markdown",
   "metadata": {},
   "source": [
    "## Modelling - Cross-Validation and Optimisation"
   ]
  },
  {
   "cell_type": "markdown",
   "metadata": {},
   "source": [
    "### KNN"
   ]
  },
  {
   "cell_type": "code",
   "execution_count": 22,
   "metadata": {},
   "outputs": [
    {
     "data": {
      "text/plain": [
       "array([0.63370964, 0.6258547 , 0.5807764 , 0.67503709, 0.6325129 ])"
      ]
     },
     "execution_count": 22,
     "metadata": {},
     "output_type": "execute_result"
    }
   ],
   "source": [
    "## instantiate knn algorithm\n",
    "knn = KNeighborsRegressor(n_neighbors=10)\n",
    "\n",
    "## cross validation\n",
    "kf = KFold(n_splits=5, shuffle=True, random_state=8)\n",
    "cv_scores = cross_val_score(knn, x_train_onehot.values, y_train.values, cv=kf)\n",
    "cv_scores"
   ]
  }
 ],
 "metadata": {
  "kernelspec": {
   "display_name": "Python 3",
   "language": "python",
   "name": "python3"
  },
  "language_info": {
   "codemirror_mode": {
    "name": "ipython",
    "version": 3
   },
   "file_extension": ".py",
   "mimetype": "text/x-python",
   "name": "python",
   "nbconvert_exporter": "python",
   "pygments_lexer": "ipython3",
   "version": "3.10.4"
  },
  "orig_nbformat": 4
 },
 "nbformat": 4,
 "nbformat_minor": 2
}
